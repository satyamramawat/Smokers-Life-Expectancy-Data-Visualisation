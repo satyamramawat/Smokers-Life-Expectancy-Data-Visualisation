{
 "cells": [
  {
   "cell_type": "code",
   "execution_count": 1,
   "metadata": {},
   "outputs": [],
   "source": [
    "##AUTHOR - SATYAM RAMAWAT \n",
    "##satyamramawat@gmail.com\n",
    "##satyam.ramawat2@mail.dcu.ie"
   ]
  },
  {
   "cell_type": "code",
   "execution_count": 2,
   "metadata": {},
   "outputs": [],
   "source": [
    "##19210520"
   ]
  },
  {
   "cell_type": "code",
   "execution_count": 332,
   "metadata": {},
   "outputs": [
    {
     "data": {
      "text/plain": [
       "{'Afghanistan',\n",
       " 'Angola',\n",
       " 'Antigua and Barbuda',\n",
       " 'Belize',\n",
       " 'Bhutan',\n",
       " 'Bolivia',\n",
       " 'Burundi',\n",
       " 'Cameroon',\n",
       " 'Central African Republic',\n",
       " 'Chad',\n",
       " 'Congo, Dem. Rep.',\n",
       " \"Cote d'Ivoire\",\n",
       " 'Equatorial Guinea',\n",
       " 'Gabon',\n",
       " 'Grenada',\n",
       " 'Guatemala',\n",
       " 'Guinea',\n",
       " 'Guinea-Bissau',\n",
       " 'Guyana',\n",
       " 'Honduras',\n",
       " 'Iraq',\n",
       " 'Jordan',\n",
       " 'Libya',\n",
       " 'Macedonia, FYR',\n",
       " 'Madagascar',\n",
       " 'Mauritania',\n",
       " 'Micronesia, Fed. Sts.',\n",
       " 'Nicaragua',\n",
       " 'North Korea',\n",
       " 'Palestine',\n",
       " 'Peru',\n",
       " 'Sao Tome and Principe',\n",
       " 'Solomon Islands',\n",
       " 'Somalia',\n",
       " 'South Sudan',\n",
       " 'St. Lucia',\n",
       " 'St. Vincent and the Grenadines',\n",
       " 'Sudan',\n",
       " 'Swaziland',\n",
       " 'Syria',\n",
       " 'Tajikistan',\n",
       " 'Trinidad and Tobago',\n",
       " 'Turkmenistan',\n",
       " 'Venezuela'}"
      ]
     },
     "execution_count": 332,
     "metadata": {},
     "output_type": "execute_result"
    }
   ],
   "source": [
    "import matplotlib.pyplot as plt\n",
    "import pandas as pandas\n",
    "%matplotlib inline\n",
    "import numpy as numpy\n",
    "\n",
    "Life_Expectancy_male = pandas.read_csv('/Users/satyamramawat/Desktop/MSc/CA682_Data_Visualization/Assignment/life_expectancy_male.csv');\n",
    "Life_Expectancy_female = pandas.read_csv('/Users/satyamramawat/Desktop/MSc/CA682_Data_Visualization/Assignment/life_expectancy_female.csv');\n",
    "\n",
    "Male_Smoker = pandas.read_csv('/Users/satyamramawat/Desktop/MSc/CA682_Data_Visualization/Assignment/sh_prv_smok_male.csv');\n",
    "Female_Smoker = pandas.read_csv('/Users/satyamramawat/Desktop/MSc/CA682_Data_Visualization/Assignment/sh_prv_smok_female.csv');\n",
    "\n",
    "\n",
    "## Creating another data set, where data is combination of both male and female Life Expectancy\n",
    "## Adding both Male and Female percentange data will outcome into 200% so we will divide it by 2 to sum up in 100%\n",
    "if(Life_Expectancy_male.country.size == Life_Expectancy_female.country.size):       #If Both the columns of country are same then we can use any one column \n",
    "    Life_Expectancy_Male_Female=pandas.DataFrame({\n",
    "    \"country\":Life_Expectancy_male.country,\n",
    "    \"2010\":(Life_Expectancy_male['2010']+Life_Expectancy_female['2010'])/2,\n",
    "    \"2011\":(Life_Expectancy_male['2011']+Life_Expectancy_female['2011'])/2,\n",
    "    \"2012\":(Life_Expectancy_male['2012']+Life_Expectancy_female['2012'])/2,\n",
    "    \"2013\":(Life_Expectancy_male['2013']+Life_Expectancy_female['2013'])/2,\n",
    "    \"2014\":(Life_Expectancy_male['2014']+Life_Expectancy_female['2014'])/2,\n",
    "    \"2015\":(Life_Expectancy_male['2015']+Life_Expectancy_female['2015'])/2,\n",
    "    \"2016\":(Life_Expectancy_male['2016']+Life_Expectancy_female['2016'])/2,\n",
    "})\n",
    "   \n",
    "#Exporting our new Filtered DataSet of Life Expectancy\n",
    "export_csv = Life_Expectancy_Male_Female.to_csv (r'/Users/satyamramawat/Desktop/MSc/CA682_Data_Visualization/Assignment/Life_Expectancy_Male_Female.csv', index = None, header=True)\n",
    "\n",
    "\n",
    "\n",
    "## Creating another data set, where data is combination of both male and female Smoker\n",
    "## Adding both Male and Female percentange data will outcome into 200% so we will divide it by 2 to sum up in 100%\n",
    "\n",
    "if(Male_Smoker.country.size == Female_Smoker.country.size):       #If Both the columns of country are same then we can use any one column \n",
    "    Smoker_Male_Female=pandas.DataFrame({\n",
    "    \"country\":Male_Smoker.country,\n",
    "    \"2010\":(Male_Smoker['2010']+Female_Smoker['2010'])/2,\n",
    "    \"2011\":(Male_Smoker['2011']+Female_Smoker['2011'])/2,\n",
    "    \"2012\":(Male_Smoker['2012']+Female_Smoker['2012'])/2,\n",
    "    \"2013\":(Male_Smoker['2013']+Female_Smoker['2013'])/2,\n",
    "    \"2014\":(Male_Smoker['2014']+Female_Smoker['2014'])/2,\n",
    "    \"2015\":(Male_Smoker['2015']+Female_Smoker['2015'])/2,\n",
    "    \"2016\":(Male_Smoker['2016']+Female_Smoker['2016'])/2,\n",
    "})\n",
    "\n",
    "#Exporting our new Filtered DataSet of Smoker\n",
    "export_csv = Smoker_Male_Female.to_csv (r'/Users/satyamramawat/Desktop/MSc/CA682_Data_Visualization/Assignment/Smoker_Male_Female.csv', index = None, header=True)\n",
    "\n",
    "\n",
    "Life_Expectancy_DataFrame = pandas.read_csv('/Users/satyamramawat/Desktop/MSc/CA682_Data_Visualization/Assignment/Life_Expectancy_Male_Female.csv');\n",
    "Smokers_DataFrame = pandas.read_csv('/Users/satyamramawat/Desktop/MSc/CA682_Data_Visualization/Assignment/Smoker_Male_Female.csv');\n",
    "\n",
    "\n",
    "## Converting Series into List in order to get list of equal country data in both datasets\n",
    "Country_list_Smoker = set(Smokers_DataFrame[\"country\"].tolist())\n",
    "Country_list_life_expectancy = set(Life_Expectancy_DataFrame[\"country\"].tolist())\n",
    "\n",
    "## Finding list of countries whose Life Expectancy Data is not available in Smoker Data\n",
    "List_to_remove_from_Life_Expentancy = Country_list_life_expectancy.difference(Country_list_Smoker)\n",
    "List_to_remove_from_Life_Expentancy"
   ]
  },
  {
   "cell_type": "code",
   "execution_count": 333,
   "metadata": {},
   "outputs": [],
   "source": [
    "## Here we're Filtering Life Expectancy Data and exporting final outcome\n",
    "Life_Expectancy_DataFrame = pandas.read_csv(\"/Users/satyamramawat/Desktop/MSc/CA682_Data_Visualization/Assignment/Life_Expectancy_Male_Female.csv\",index_col = \"country\");\n",
    "Life_Expectancy_DataFrame.drop(List_to_remove_from_Life_Expentancy, inplace = True)\n",
    "export_csv = Life_Expectancy_DataFrame.to_csv (r'/Users/satyamramawat/Desktop/MSc/CA682_Data_Visualization/Assignment/Filtered/Life_Expectancy_DataFrame_Filtered.csv', index = \"country\", header=True)\n"
   ]
  },
  {
   "cell_type": "code",
   "execution_count": 334,
   "metadata": {},
   "outputs": [
    {
     "data": {
      "text/plain": [
       "{'Andorra', 'Nauru', 'Palau'}"
      ]
     },
     "execution_count": 334,
     "metadata": {},
     "output_type": "execute_result"
    }
   ],
   "source": [
    "## Finding list of countries whose Smoker Data is not available in Life Expectancy\n",
    "List_to_remove_from_Smokers = Country_list_Smoker.difference(Country_list_life_expectancy)\n",
    "List_to_remove_from_Smokers"
   ]
  },
  {
   "cell_type": "code",
   "execution_count": 335,
   "metadata": {},
   "outputs": [],
   "source": [
    "## Here we're Filtering Smoker Data and exporting final outcome\n",
    "Smoker_DataFrame = pandas.read_csv(\"/Users/satyamramawat/Desktop/MSc/CA682_Data_Visualization/Assignment/Smoker_Male_Female.csv\",index_col = \"country\");\n",
    "Smoker_DataFrame.drop(List_to_remove_from_Smokers, inplace = True)\n",
    "export_csv = Smoker_DataFrame.to_csv (r'/Users/satyamramawat/Desktop/MSc/CA682_Data_Visualization/Assignment/Filtered/Smoker_DataFrame_Filtered.csv', index = \"country\", header=True)"
   ]
  },
  {
   "cell_type": "code",
   "execution_count": 339,
   "metadata": {},
   "outputs": [],
   "source": [
    "## Now we will calculate life expectancy of Smokers(Male and Female)\n",
    "\n",
    "Overall_Age = pandas.read_csv('/Users/satyamramawat/Desktop/MSc/CA682_Data_Visualization/Assignment/Filtered/Life_Expectancy_DataFrame_Filtered.csv');\n",
    "Smoker_Percent = pandas.read_csv('/Users/satyamramawat/Desktop/MSc/CA682_Data_Visualization/Assignment/Filtered/Smoker_DataFrame_Filtered.csv');\n",
    "\n",
    "\n",
    "## Creating a data set, along with calucalating smokers life expectancy\n",
    "if(Overall_Age.country.size == Smoker_Percent.country.size):       \n",
    "    Smokers_Life_Expectancy_Male_Female=pandas.DataFrame({\n",
    "    \"country\":Overall_Age.country,\n",
    "    \"2010\":(Overall_Age['2010'])-((Overall_Age['2010'])*Smoker_Percent['2010']/100 ),\n",
    "    \"2011\":(Overall_Age['2011'])-((Overall_Age['2011'])*Smoker_Percent['2011']/100 ),\n",
    "    \"2012\":(Overall_Age['2012'])-((Overall_Age['2012'])*Smoker_Percent['2012']/100 ),\n",
    "    \"2013\":(Overall_Age['2013'])-((Overall_Age['2013'])*Smoker_Percent['2013']/100 ),\n",
    "    \"2014\":(Overall_Age['2014'])-((Overall_Age['2014'])*Smoker_Percent['2014']/100 ),\n",
    "    \"2015\":(Overall_Age['2015'])-((Overall_Age['2015'])*Smoker_Percent['2015']/100 ),\n",
    "    \"2016\":(Overall_Age['2016'])-((Overall_Age['2016'])*Smoker_Percent['2016']/100 ),\n",
    "})\n",
    "\n",
    "#Exporting our new Filtered DataSet of Life Expectancy\n",
    "export_csv = Smokers_Life_Expectancy_Male_Female.to_csv (r'/Users/satyamramawat/Desktop/MSc/CA682_Data_Visualization/Assignment/Filtered/Smokers_Life_Expectancy_Male_Female.csv', index = None, header=True)\n"
   ]
  },
  {
   "cell_type": "code",
   "execution_count": null,
   "metadata": {},
   "outputs": [],
   "source": []
  }
 ],
 "metadata": {
  "kernelspec": {
   "display_name": "Python 3",
   "language": "python",
   "name": "python3"
  },
  "language_info": {
   "codemirror_mode": {
    "name": "ipython",
    "version": 3
   },
   "file_extension": ".py",
   "mimetype": "text/x-python",
   "name": "python",
   "nbconvert_exporter": "python",
   "pygments_lexer": "ipython3",
   "version": "3.7.3"
  }
 },
 "nbformat": 4,
 "nbformat_minor": 2
}
